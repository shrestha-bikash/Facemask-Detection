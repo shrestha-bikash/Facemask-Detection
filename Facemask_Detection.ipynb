{
  "nbformat": 4,
  "nbformat_minor": 0,
  "metadata": {
    "colab": {
      "name": "Facemask Detection.ipynb",
      "provenance": [],
      "authorship_tag": "ABX9TyP0eOX6dVjMonewpPUM7RMU",
      "include_colab_link": true
    },
    "kernelspec": {
      "name": "python3",
      "display_name": "Python 3"
    },
    "language_info": {
      "name": "python"
    },
    "accelerator": "GPU"
  },
  "cells": [
    {
      "cell_type": "markdown",
      "metadata": {
        "id": "view-in-github",
        "colab_type": "text"
      },
      "source": [
        "<a href=\"https://colab.research.google.com/github/shrestha-bikash/Facemask-Detection/blob/main/Facemask_Detection.ipynb\" target=\"_parent\"><img src=\"https://colab.research.google.com/assets/colab-badge.svg\" alt=\"Open In Colab\"/></a>"
      ]
    },
    {
      "cell_type": "code",
      "metadata": {
        "id": "HLk82fzPjzvf"
      },
      "source": [
        "! tar -xf facemask_detection.tar.xz"
      ],
      "execution_count": null,
      "outputs": []
    },
    {
      "cell_type": "code",
      "metadata": {
        "colab": {
          "base_uri": "https://localhost:8080/"
        },
        "id": "dmu-0hXAkOe_",
        "outputId": "f444c9ba-1124-4fcc-9178-0592895a64af"
      },
      "source": [
        "import os\n",
        "\n",
        "data_path = 'facemask/'\n",
        "\n",
        "def get_file_lists(path, listing_name):\n",
        "    fw = open(listing_name, 'w')\n",
        "\n",
        "    for dirpath, dirname, filenames in os.walk(path):\n",
        "        \n",
        "        print(dirpath)\n",
        "        # dir_name = dirpath.split('/')[-1]\n",
        "        # print(dir_name)\n",
        "\n",
        "        for f_name in filenames:\n",
        "            file_path = dirpath + '/' + f_name\n",
        "            fw.write(file_path + '\\n')\n",
        "            \n",
        "    fw.close()\n",
        "\n",
        "train_path = data_path + 'Train'\n",
        "test_path = data_path + 'Test'\n",
        "validation_path = data_path + 'Validation'\n",
        "\n",
        "get_file_lists(train_path, 'training_list.txt')\n",
        "get_file_lists(test_path, 'test_list.txt')\n",
        "get_file_lists(validation_path, 'validation_list.txt')"
      ],
      "execution_count": null,
      "outputs": [
        {
          "output_type": "stream",
          "text": [
            "facemask/Train\n",
            "facemask/Train/Non-Mask\n",
            "facemask/Train/Mask\n",
            "facemask/Test\n",
            "facemask/Test/Non-Mask\n",
            "facemask/Test/Mask\n",
            "facemask/Validation\n",
            "facemask/Validation/Non-Mask\n",
            "facemask/Validation/Mask\n"
          ],
          "name": "stdout"
        }
      ]
    },
    {
      "cell_type": "code",
      "metadata": {
        "id": "doGkzJvXkh_v"
      },
      "source": [
        "! cat test_list.txt"
      ],
      "execution_count": null,
      "outputs": []
    },
    {
      "cell_type": "code",
      "metadata": {
        "id": "DITpIcxholgz"
      },
      "source": [
        "from PIL import Image\n",
        "import numpy as np\n",
        "\n",
        "from keras.preprocessing.image import ImageDataGenerator, load_img\n",
        "from tensorflow.keras.applications.efficientnet import preprocess_input\n",
        "\n",
        "def get_list(path):\n",
        "    f = open(path, 'r')\n",
        "    flines = f.readlines()\n",
        "    f.close()\n",
        "\n",
        "    file_list = []\n",
        "\n",
        "    for line in flines:\n",
        "        file_name = line.split()[0]\n",
        "        file_list.append(file_name)\n",
        "    \n",
        "    return file_list\n",
        "\n",
        "def load_and_resize_image(path):\n",
        "    img = load_img(path, target_size=(224, 224))\n",
        "    img = np.array(img)\n",
        "    img = preprocess_input(img)\n",
        "\n",
        "    return img\n",
        "\n",
        "def one_hot_encoding(class_labels, y_label):\n",
        "    y_class = np.zeros(len(class_labels), dtype=int)\n",
        "    class_index = class_labels.index(y_label)\n",
        "\n",
        "    y_class[class_index] = 1\n",
        "\n",
        "    return y_class\n",
        "\n",
        "def get_input_output(path, batch_list, class_labels):\n",
        "    X = np.zeros((len(batch_list), 224, 224, 3))\n",
        "    Y = np.zeros((len(batch_list), 1))\n",
        "\n",
        "    for index, item in enumerate(batch_list):\n",
        "        x = load_and_resize_image(item)\n",
        "        \n",
        "        label = item.split('/')[-2]\n",
        "        if label == 'Mask':\n",
        "            y = 1\n",
        "        elif label == 'Non-Mask':\n",
        "            y = 0\n",
        "        else:\n",
        "            y = -1\n",
        "\n",
        "        # x = np.expand_dims(img_data, axis=-1)\n",
        "\n",
        "        X[index, :, :, :] = x\n",
        "        Y[index] = y\n",
        "    \n",
        "    return X, Y"
      ],
      "execution_count": null,
      "outputs": []
    },
    {
      "cell_type": "code",
      "metadata": {
        "colab": {
          "base_uri": "https://localhost:8080/",
          "height": 277
        },
        "id": "7yNrdEvpwhbL",
        "outputId": "138be577-b6c8-4778-e489-0529196f5f14"
      },
      "source": [
        "import matplotlib.pyplot as plt\n",
        "\n",
        "img_np = load_and_resize_image('facemask/Train/Mask/0972.jpg')\n",
        "\n",
        "print(img_np.shape)\n",
        "\n",
        "\n",
        "plt.matshow(img_np)\n",
        "plt.colorbar()\n",
        "plt.show()"
      ],
      "execution_count": null,
      "outputs": [
        {
          "output_type": "stream",
          "text": [
            "(224, 224, 3)\n"
          ],
          "name": "stdout"
        },
        {
          "output_type": "display_data",
          "data": {
            "image/png": "[encoded data removed]",
            "text/plain": [
              "<Figure size 288x288 with 2 Axes>"
            ]
          },
          "metadata": {
            "needs_background": "light"
          }
        }
      ]
    },
    {
      "cell_type": "code",
      "metadata": {
        "id": "0Kpqav4IuIPE"
      },
      "source": [
        "from tensorflow.keras.utils import  Sequence\n",
        "\n",
        "class ImageDataGenerator(Sequence):\n",
        "    def __init__(self, data_path, image_list, class_labels, batch_size):\n",
        "        self.data_path = data_path\n",
        "        self.image_list = image_list\n",
        "        self.batch_size = batch_size\n",
        "        self.class_labels = class_labels\n",
        "\n",
        "    def __len__(self):\n",
        "        return int(len(self.image_list) / self.batch_size)\n",
        "\n",
        "    def __getitem__(self, index):\n",
        "        batch_list = self.image_list[index * self.batch_size : (index + 1) * self.batch_size]\n",
        "\n",
        "        X, Y = get_input_output(self.data_path, batch_list, class_labels)\n",
        "\n",
        "        return X, Y"
      ],
      "execution_count": null,
      "outputs": []
    },
    {
      "cell_type": "code",
      "metadata": {
        "colab": {
          "base_uri": "https://localhost:8080/"
        },
        "id": "X6711ZvauRk3",
        "outputId": "e22c57e5-a157-4007-cd03-b77d28b73a14"
      },
      "source": [
        "class_labels = ['Mask', 'Non-Mask']\n",
        "\n",
        "training_list_path = 'training_list.txt'\n",
        "validation_list_path = 'validation_list.txt'\n",
        "test_list_path = 'test_list.txt'\n",
        "\n",
        "training_list = get_list(training_list_path)\n",
        "validation_list = get_list(validation_list_path)\n",
        "np.random.shuffle(training_list)\n",
        "np.random.shuffle(validation_list)\n",
        "\n",
        "testing_list = get_list(test_list_path)\n",
        "\n",
        "print('length of training dataset:', len(training_list))\n",
        "print('length of validation dataset:', len(validation_list))\n",
        "print('length of test dataset:', len(testing_list))"
      ],
      "execution_count": null,
      "outputs": [
        {
          "output_type": "stream",
          "text": [
            "length of training dataset: 600\n",
            "length of validation dataset: 306\n",
            "length of test dataset: 100\n"
          ],
          "name": "stdout"
        }
      ]
    },
    {
      "cell_type": "code",
      "metadata": {
        "id": "Gokr6vBRz1DL"
      },
      "source": [
        "batch_size = 32\n",
        "\n",
        "train_generator = ImageDataGenerator(data_path, training_list, class_labels, batch_size)\n",
        "validation_generator = ImageDataGenerator(data_path, validation_list, class_labels, batch_size)\n",
        "\n",
        "print(len(train_generator))\n",
        "print(len(validation_generator))\n",
        "\n",
        "xx, yy = train_generator[0]\n",
        "\n",
        "print(xx.shape)\n",
        "print(yy)"
      ],
      "execution_count": null,
      "outputs": []
    },
    {
      "cell_type": "code",
      "metadata": {
        "id": "j703cRda0wuS"
      },
      "source": [
        "from tensorflow.keras.models import Sequential\n",
        "from tensorflow.keras.layers import Dense, Conv2D, MaxPool2D, Flatten, BatchNormalization, Dropout\n",
        "from tensorflow.keras.callbacks import ModelCheckpoint\n",
        "from tensorflow.keras.applications import EfficientNetB0, EfficientNetB4\n",
        "\n",
        "def conv_model(input_shape):\n",
        "    model = Sequential()\n",
        "    model.add( Conv2D( 64, ( 3, 3 ), activation = 'relu', input_shape = input_shape ) )\n",
        "    model.add( BatchNormalization())\n",
        "    model.add( Conv2D( 64, ( 3, 3 ), activation = 'relu' ))\n",
        "    model.add( MaxPool2D() )\n",
        "    model.add( Conv2D( 32, ( 3, 3 ), activation = 'relu' ) )\n",
        "    model.add( BatchNormalization())\n",
        "    model.add( Conv2D( 32, ( 3, 3 ), activation = 'relu' ) )\n",
        "    model.add( MaxPool2D() )\n",
        "    model.add( BatchNormalization())\n",
        "    model.add( Conv2D( 16, ( 3, 3 ), activation = 'relu' ) )\n",
        "    model.add( MaxPool2D() )\n",
        "    model.add( Conv2D( 8, ( 3, 3 ), activation = 'relu' ) )\n",
        "\n",
        "    model.add( Flatten() )\n",
        "    model.add( Dense( 10, activation = 'relu' ) )\n",
        "    model.add( Dense( 2, activation = 'softmax' ) )\n",
        "\n",
        "    return model\n",
        "\n",
        "def efficientNet(input_shape):\n",
        "    base_model = EfficientNetB0(\n",
        "        include_top=False,\n",
        "        weights='imagenet',\n",
        "        input_shape=input_shape,\n",
        "    )\n",
        "\n",
        "    # for layer in base_model.layers:\n",
        "    #     layer.trainable = False\n",
        "\n",
        "    model = Sequential()\n",
        "   \n",
        "    model.add(base_model)\n",
        "    # model.add( MaxPool2D() )\n",
        "\n",
        "    model.add( Flatten() )\n",
        "    # model.add(BatchNormalization())\n",
        "    model.add( Dense( 32, activation = 'relu' ) )\n",
        "    model.add(BatchNormalization())\n",
        "    model.add( Dense( 10, activation = 'relu' ) )\n",
        "    model.add(Dropout(0.3))\n",
        "\n",
        "    model.add( Dense( 2, activation = 'softmax' ) )\n",
        "\n",
        "    return model"
      ],
      "execution_count": null,
      "outputs": []
    },
    {
      "cell_type": "code",
      "metadata": {
        "colab": {
          "base_uri": "https://localhost:8080/"
        },
        "id": "cRiILDmp0-wi",
        "outputId": "66363497-293b-45a9-97f4-8dc52b0062ea"
      },
      "source": [
        "# model = conv_model((64, 64, 3))\n",
        "model = efficientNet((224, 224, 3))\n",
        "model.summary()\n",
        "\n",
        "model.compile(optimizer = 'adam', loss = 'binary_crossentropy', metrics = [ 'accuracy' ])"
      ],
      "execution_count": null,
      "outputs": [
        {
          "output_type": "stream",
          "text": [
            "Model: \"sequential_11\"\n",
            "_________________________________________________________________\n",
            "Layer (type)                 Output Shape              Param #   \n",
            "=================================================================\n",
            "efficientnetb0 (Functional)  (None, 7, 7, 1280)        4049571   \n",
            "_________________________________________________________________\n",
            "flatten_11 (Flatten)         (None, 62720)             0         \n",
            "_________________________________________________________________\n",
            "dense_28 (Dense)             (None, 32)                2007072   \n",
            "_________________________________________________________________\n",
            "batch_normalization_11 (Batc (None, 32)                128       \n",
            "_________________________________________________________________\n",
            "dense_29 (Dense)             (None, 10)                330       \n",
            "_________________________________________________________________\n",
            "dropout_6 (Dropout)          (None, 10)                0         \n",
            "_________________________________________________________________\n",
            "dense_30 (Dense)             (None, 2)                 22        \n",
            "=================================================================\n",
            "Total params: 6,057,123\n",
            "Trainable params: 6,015,036\n",
            "Non-trainable params: 42,087\n",
            "_________________________________________________________________\n"
          ],
          "name": "stdout"
        }
      ]
    },
    {
      "cell_type": "code",
      "metadata": {
        "colab": {
          "base_uri": "https://localhost:8080/"
        },
        "id": "B992vkwG1bbu",
        "outputId": "3c7489d9-5077-48fa-f578-9b101c326301"
      },
      "source": [
        "epochs = 16\n",
        "file_weights = 'model_weights.hdf5'\n",
        "\n",
        "history = model.fit(train_generator,\n",
        "    validation_data = validation_generator,\n",
        "    callbacks = [ModelCheckpoint(filepath = file_weights, monitor = 'val_loss', save_best_only = True, save_weights_only = True, verbose = 1)],\n",
        "    verbose = 1,\n",
        "    epochs = epochs)"
      ],
      "execution_count": null,
      "outputs": [
        {
          "output_type": "stream",
          "text": [
            "Epoch 1/16\n",
            "18/18 [==============================] - 17s 922ms/step - loss: 0.0514 - accuracy: 0.7691 - val_loss: 0.0378 - val_accuracy: 0.9896\n",
            "\n",
            "Epoch 00001: val_loss improved from inf to 0.03784, saving model to model_weights.hdf5\n",
            "Epoch 2/16\n",
            "18/18 [==============================] - 16s 878ms/step - loss: 0.0397 - accuracy: 0.7344 - val_loss: 0.0467 - val_accuracy: 0.9549\n",
            "\n",
            "Epoch 00002: val_loss did not improve from 0.03784\n",
            "Epoch 3/16\n",
            "18/18 [==============================] - 16s 880ms/step - loss: 0.0371 - accuracy: 0.7830 - val_loss: 0.0464 - val_accuracy: 0.9722\n",
            "\n",
            "Epoch 00003: val_loss did not improve from 0.03784\n",
            "Epoch 4/16\n",
            "18/18 [==============================] - 16s 883ms/step - loss: 0.0281 - accuracy: 0.7691 - val_loss: 0.0443 - val_accuracy: 0.9826\n",
            "\n",
            "Epoch 00004: val_loss did not improve from 0.03784\n",
            "Epoch 5/16\n",
            "18/18 [==============================] - 16s 879ms/step - loss: 0.0270 - accuracy: 0.8021 - val_loss: 0.0438 - val_accuracy: 0.9722\n",
            "\n",
            "Epoch 00005: val_loss did not improve from 0.03784\n",
            "Epoch 6/16\n",
            "18/18 [==============================] - 16s 877ms/step - loss: 0.0399 - accuracy: 0.7743 - val_loss: 0.0423 - val_accuracy: 0.9757\n",
            "\n",
            "Epoch 00006: val_loss did not improve from 0.03784\n",
            "Epoch 7/16\n",
            "18/18 [==============================] - 16s 879ms/step - loss: 0.0247 - accuracy: 0.7656 - val_loss: 0.0416 - val_accuracy: 0.9792\n",
            "\n",
            "Epoch 00007: val_loss did not improve from 0.03784\n",
            "Epoch 8/16\n",
            "18/18 [==============================] - 16s 882ms/step - loss: 0.0239 - accuracy: 0.7951 - val_loss: 0.0459 - val_accuracy: 0.9653\n",
            "\n",
            "Epoch 00008: val_loss did not improve from 0.03784\n",
            "Epoch 9/16\n",
            "18/18 [==============================] - 16s 880ms/step - loss: 0.0223 - accuracy: 0.7986 - val_loss: 0.0459 - val_accuracy: 0.9757\n",
            "\n",
            "Epoch 00009: val_loss did not improve from 0.03784\n",
            "Epoch 10/16\n",
            "18/18 [==============================] - 16s 877ms/step - loss: 0.0189 - accuracy: 0.7917 - val_loss: 0.0465 - val_accuracy: 0.9688\n",
            "\n",
            "Epoch 00010: val_loss did not improve from 0.03784\n",
            "Epoch 11/16\n",
            "18/18 [==============================] - 16s 880ms/step - loss: 0.0252 - accuracy: 0.8021 - val_loss: 0.0426 - val_accuracy: 0.9583\n",
            "\n",
            "Epoch 00011: val_loss did not improve from 0.03784\n",
            "Epoch 12/16\n",
            "18/18 [==============================] - 16s 886ms/step - loss: 0.0254 - accuracy: 0.7847 - val_loss: 0.0389 - val_accuracy: 0.9479\n",
            "\n",
            "Epoch 00012: val_loss did not improve from 0.03784\n",
            "Epoch 13/16\n",
            "18/18 [==============================] - 16s 872ms/step - loss: 0.0103 - accuracy: 0.7899 - val_loss: 0.0347 - val_accuracy: 0.8854\n",
            "\n",
            "Epoch 00013: val_loss improved from 0.03784 to 0.03468, saving model to model_weights.hdf5\n",
            "Epoch 14/16\n",
            "18/18 [==============================] - 16s 891ms/step - loss: 0.0116 - accuracy: 0.7986 - val_loss: 0.0374 - val_accuracy: 0.9375\n",
            "\n",
            "Epoch 00014: val_loss did not improve from 0.03468\n",
            "Epoch 15/16\n",
            "18/18 [==============================] - 16s 892ms/step - loss: 0.0127 - accuracy: 0.8160 - val_loss: 0.0393 - val_accuracy: 0.9653\n",
            "\n",
            "Epoch 00015: val_loss did not improve from 0.03468\n",
            "Epoch 16/16\n",
            "18/18 [==============================] - 16s 894ms/step - loss: 0.0126 - accuracy: 0.8194 - val_loss: 0.0409 - val_accuracy: 0.9653\n",
            "\n",
            "Epoch 00016: val_loss did not improve from 0.03468\n"
          ],
          "name": "stdout"
        }
      ]
    },
    {
      "cell_type": "code",
      "metadata": {
        "colab": {
          "base_uri": "https://localhost:8080/"
        },
        "id": "kKjES5lo16ix",
        "outputId": "11e45ea9-78bf-4fe6-ec58-280b48c74fbf"
      },
      "source": [
        "def plot_learning_curves(history):\n",
        "    print('')\n",
        "    print('Curves..')\n",
        "    # print(history.params)\n",
        "    plt.clf()\n",
        "    if 'accuracy' in history.history:\n",
        "        plt.plot(history.history['accuracy'], 'g', label = 'Training Accuracy')\n",
        "        plt.plot(history.history['val_accuracy'], 'b', label = 'Validation Accuracy')\n",
        "        plt.xlabel('Epochs')\n",
        "        plt.ylabel('Accuracy')\n",
        "    else:\n",
        "        plt.plot(history.history['mae'], 'g', label = 'Training MAE')\n",
        "        plt.plot(history.history['val_mae'], 'b', label = 'Validation MAE')\n",
        "        plt.xlabel('Epochs')\n",
        "        plt.ylabel('MAE')\n",
        "    \n",
        "    plt.ylim(0, 1.1)\n",
        "    plt.legend()\n",
        "    plt.show()\n",
        "\n",
        "plot_learning_curves(history)"
      ],
      "execution_count": null,
      "outputs": [
        {
          "output_type": "stream",
          "text": [
            "\n",
            "Curves..\n"
          ],
          "name": "stdout"
        },
        {
          "output_type": "display_data",
          "data": {
            "image/png": "[encoded data removed]",
            "text/plain": [
              "<Figure size 432x288 with 1 Axes>"
            ]
          },
          "metadata": {
            "needs_background": "light"
          }
        }
      ]
    },
    {
      "cell_type": "code",
      "metadata": {
        "colab": {
          "base_uri": "https://localhost:8080/"
        },
        "id": "U7vncWxB2PHK",
        "outputId": "3928eab8-15f2-44b4-8de4-7d9bef96ab1d"
      },
      "source": [
        "test_generator = ImageDataGenerator(data_path, testing_list, class_labels, batch_size)\n",
        "print('Test generator size:', len(test_generator))"
      ],
      "execution_count": null,
      "outputs": [
        {
          "output_type": "stream",
          "text": [
            "Test generator size: 3\n"
          ],
          "name": "stdout"
        }
      ]
    },
    {
      "cell_type": "code",
      "metadata": {
        "colab": {
          "base_uri": "https://localhost:8080/"
        },
        "id": "bcG4-V2Z235p",
        "outputId": "9a357fba-786f-4f2e-f50c-3a4713d030ed"
      },
      "source": [
        "model.load_weights(file_weights)\n",
        "score, acc = model.evaluate(test_generator)"
      ],
      "execution_count": null,
      "outputs": [
        {
          "output_type": "stream",
          "text": [
            "3/3 [==============================] - 2s 492ms/step - loss: 6.6462e-04 - accuracy: 0.8646\n"
          ],
          "name": "stdout"
        }
      ]
    },
    {
      "cell_type": "code",
      "metadata": {
        "id": "epSoDtMJ2b3D"
      },
      "source": [
        "y_test = []\n",
        "\n",
        "for i in range(len(test_generator)):\n",
        "    xx, yy = test_generator[i]\n",
        "    for j in range(batch_size):\n",
        "        class_label = yy[j]\n",
        "        y_test.append(class_label)"
      ],
      "execution_count": null,
      "outputs": []
    }
  ]
}